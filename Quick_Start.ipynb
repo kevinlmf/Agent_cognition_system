{
 "cells": [
  {
   "cell_type": "markdown",
   "metadata": {},
   "source": [
    "# Agent Perception + Memory System - Quick Start\n",
    "\n",
    "This notebook demonstrates the core features of the cognitive system."
   ]
  },
  {
   "cell_type": "markdown",
   "metadata": {},
   "source": [
    "## 1. Setup"
   ]
  },
  {
   "cell_type": "code",
   "execution_count": null,
   "metadata": {},
   "outputs": [],
   "source": [
    "from main import CognitiveAgent\n",
    "import numpy as np\n",
    "\n",
    "# Create agent\n",
    "agent = CognitiveAgent(mode=\"langgraph\")\n",
    "print(\"✓ Agent initialized\")"
   ]
  },
  {
   "cell_type": "markdown",
   "metadata": {},
   "source": [
    "## 2. Perception: Observe the World"
   ]
  },
  {
   "cell_type": "code",
   "execution_count": null,
   "metadata": {},
   "outputs": [],
   "source": [
    "# Perceive some observations\n",
    "observations = [\n",
    "    \"The Federal Reserve announced a 0.25% interest rate increase.\",\n",
    "    \"Stock market volatility increased following the Fed announcement.\",\n",
    "    \"Treasury yields rose to 4.5% after the rate decision.\",\n",
    "]\n",
    "\n",
    "for obs in observations:\n",
    "    result = agent.perceive(obs, source=\"news\")\n",
    "    print(f\"\\nObservation: {obs}\")\n",
    "    print(f\"Summary: {result['perception']['summary']}\")\n",
    "    print(f\"Entities found: {len(result['perception']['entities'])}\")"
   ]
  },
  {
   "cell_type": "markdown",
   "metadata": {},
   "source": [
    "## 3. WorldGraph: Query the World Model"
   ]
  },
  {
   "cell_type": "code",
   "execution_count": null,
   "metadata": {},
   "outputs": [],
   "source": [
    "# Query world model\n",
    "world_info = agent.query_world(\"Federal Reserve\")\n",
    "\n",
    "print(\"World Model Query:\")\n",
    "print(f\"Entity: Federal Reserve\")\n",
    "print(f\"Relations: {len(world_info.get('relations', []))}\")\n",
    "print(f\"Related events: {len(world_info.get('related_events', []))}\")"
   ]
  },
  {
   "cell_type": "markdown",
   "metadata": {},
   "source": [
    "## 4. Memory: Store and Retrieve"
   ]
  },
  {
   "cell_type": "code",
   "execution_count": null,
   "metadata": {},
   "outputs": [],
   "source": [
    "# Record an action\n",
    "memory_id = agent.record_action(\n",
    "    action_type=\"analysis\",\n",
    "    parameters={\"topic\": \"interest_rates\"},\n",
    "    result=\"Analyzed impact of rate changes on markets.\",\n",
    "    reward=0.8\n",
    ")\n",
    "\n",
    "print(f\"Action recorded with memory ID: {memory_id}\")"
   ]
  },
  {
   "cell_type": "code",
   "execution_count": null,
   "metadata": {},
   "outputs": [],
   "source": [
    "# Query memory\n",
    "context = agent.query_memory(\"interest rates\")\n",
    "\n",
    "print(\"\\nMemory Context:\")\n",
    "print(f\"Recent memories: {len(context.get('recent', []))}\")\n",
    "print(f\"Important memories: {len(context.get('important', []))}\")\n",
    "\n",
    "# Show recent memories\n",
    "print(\"\\nRecent Memories:\")\n",
    "for mem in context.get('recent', [])[:3]:\n",
    "    print(f\"  - {mem['summary']} (importance: {mem['importance']:.2f})\")"
   ]
  },
  {
   "cell_type": "markdown",
   "metadata": {},
   "source": [
    "## 5. Cognitive State: Get Complete Context"
   ]
  },
  {
   "cell_type": "code",
   "execution_count": null,
   "metadata": {},
   "outputs": [],
   "source": [
    "# Get full cognitive state\n",
    "state = agent.get_state()\n",
    "\n",
    "# Display as text summary\n",
    "print(\"Cognitive State Summary:\")\n",
    "print(\"=\" * 60)\n",
    "print(state.to_text_summary())"
   ]
  },
  {
   "cell_type": "markdown",
   "metadata": {},
   "source": [
    "## 6. Memory Consolidation"
   ]
  },
  {
   "cell_type": "code",
   "execution_count": null,
   "metadata": {},
   "outputs": [],
   "source": [
    "# Consolidate episodic memories into semantic knowledge\n",
    "result = agent.consolidate()\n",
    "\n",
    "print(\"Memory Consolidation:\")\n",
    "print(f\"  New concepts learned: {result['new_concepts']}\")\n",
    "print(f\"  Patterns detected: {result['new_patterns']}\")\n",
    "print(f\"  Total semantic concepts: {result['total_semantic_concepts']}\")"
   ]
  },
  {
   "cell_type": "markdown",
   "metadata": {},
   "source": [
    "## 7. Statistics"
   ]
  },
  {
   "cell_type": "code",
   "execution_count": null,
   "metadata": {},
   "outputs": [],
   "source": [
    "# Get system statistics\n",
    "stats = agent.get_statistics()\n",
    "\n",
    "print(\"System Statistics:\")\n",
    "print(\"=\" * 60)\n",
    "\n",
    "mem_stats = stats['memory']['memory_graph']\n",
    "print(f\"Memory:\")\n",
    "print(f\"  Total memories: {mem_stats['total_memories']}\")\n",
    "print(f\"  Episodic: {mem_stats['episodic_memories']}\")\n",
    "print(f\"  Semantic: {mem_stats['semantic_memories']}\")\n",
    "\n",
    "print(f\"\\nWorld Model:\")\n",
    "print(f\"  Entities: {stats['perception']['num_entities']}\")\n",
    "print(f\"  Relations: {stats['perception']['num_relations']}\")"
   ]
  },
  {
   "cell_type": "markdown",
   "metadata": {},
   "source": [
    "## 8. Advanced: Multiple Observations"
   ]
  },
  {
   "cell_type": "code",
   "execution_count": null,
   "metadata": {},
   "outputs": [],
   "source": [
    "# Add more observations to build richer world model\n",
    "additional_obs = [\n",
    "    \"Inflation rate decreased to 3.2% in the latest report.\",\n",
    "    \"Unemployment remains steady at 3.8%.\",\n",
    "    \"GDP growth exceeded expectations at 2.5%.\",\n",
    "    \"Consumer confidence index rose to 110.\"\n",
    "]\n",
    "\n",
    "print(\"Adding additional economic observations...\\n\")\n",
    "for obs in additional_obs:\n",
    "    result = agent.perceive(obs, source=\"economic_data\")\n",
    "    print(f\"✓ {obs[:60]}...\")\n",
    "\n",
    "# Check updated statistics\n",
    "stats = agent.get_statistics()\n",
    "print(f\"\\nUpdated world model: {stats['perception']['num_entities']} entities\")"
   ]
  },
  {
   "cell_type": "markdown",
   "metadata": {},
   "source": [
    "## 9. Query Specific Entities"
   ]
  },
  {
   "cell_type": "code",
   "execution_count": null,
   "metadata": {},
   "outputs": [],
   "source": [
    "# Query different entities\n",
    "entities_to_query = [\"Federal Reserve\", \"Inflation\", \"GDP\"]\n",
    "\n",
    "for entity in entities_to_query:\n",
    "    info = agent.query_world(entity)\n",
    "    if info.get('status') != 'not_found':\n",
    "        print(f\"\\n{entity}:\")\n",
    "        print(f\"  Relations: {len(info.get('relations', []))}\")\n",
    "        print(f\"  Related events: {len(info.get('related_events', []))}\")\n",
    "    else:\n",
    "        print(f\"\\n{entity}: Not found in world model\")"
   ]
  },
  {
   "cell_type": "markdown",
   "metadata": {},
   "source": [
    "## 10. Export World Graph"
   ]
  },
  {
   "cell_type": "code",
   "execution_count": null,
   "metadata": {},
   "outputs": [],
   "source": [
    "# Get world snapshot\n",
    "snapshot = agent.perception_engine.get_world_snapshot()\n",
    "\n",
    "print(\"World Graph Snapshot:\")\n",
    "print(f\"  Timestamp: {snapshot['timestamp']}\")\n",
    "print(f\"  Statistics: {snapshot['statistics']}\")\n",
    "print(f\"\\nRecent Events:\")\n",
    "for event in snapshot['recent_events'][:3]:\n",
    "    print(f\"  - {event['description'][:70]}...\")"
   ]
  }
 ],
 "metadata": {
  "kernelspec": {
   "display_name": "Python 3",
   "language": "python",
   "name": "python3"
  },
  "language_info": {
   "codemirror_mode": {
    "name": "ipython",
    "version": 3
   },
   "file_extension": ".py",
   "mimetype": "text/x-python",
   "name": "python",
   "nbconvert_exporter": "python",
   "pygments_lexer": "ipython3",
   "version": "3.8.0"
  }
 },
 "nbformat": 4,
 "nbformat_minor": 4
}
